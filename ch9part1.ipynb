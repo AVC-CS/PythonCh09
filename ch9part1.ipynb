{
 "cells": [
  {
   "cell_type": "markdown",
   "metadata": {},
   "source": [
    "<style>\n",
    "\th1 {\n",
    "\t--\tbackground-color: grey;\n",
    "\t\tcolor: yellow\n",
    "\t\tborder: 3px solid grey\n",
    "\n",
    "\t}\n",
    "\tp {\n",
    "\t\tbackground-color: grey;\n",
    "\t\tcolor: white\n",
    "\t\tborder: 3px solid grey\n",
    "\n",
    "\t}\n",
    "</style>\n",
    "<h1> Chapter 9 Dictionary and File Handling: Part 1</h1>"
   ]
  },
  {
   "cell_type": "markdown",
   "metadata": {},
   "source": [
    "<p style=\"margin-left:40px\"> 9.1 Basic Examples of Dictionary</p>\n",
    "\n",
    "<p style=\"margin-left:40px\"> 9.2 </p>\n",
    "\n",
    "<p style=\"margin-left:40px\"> 9.3 </p>\n",
    "\n",
    "<p style=\"margin-left:40px\"> 9.4 </p>\n",
    "\n",
    "<p style=\"margin-left:40px\"> 9.5 </p>\n"
   ]
  },
  {
   "cell_type": "markdown",
   "metadata": {},
   "source": [
    "***\n",
    "\n",
    "## <p style=\"background-color: grey; color: white \"> ◼️  Dictionary </p>\n",
    "# <p style=\"font-family: Arial; font-size:1.4em;color:red;\"> 1. Basic Examples of Dictionary</p>\n"
   ]
  },
  {
   "cell_type": "markdown",
   "metadata": {},
   "source": [
    "A `dict` (short for dictionary) is a collection of key-value pairs, where each key is unique and is used to access its associated value. It is an unordered, mutable, and indexed collection that allows for fast data retrieval.\n",
    "\n",
    "### Key Characteristics:\n",
    "- **Mutable**: You can change the values of existing keys or add new key-value pairs.\n",
    "- **Unique Keys**: Keys must be unique, though values can be duplicated.\n",
    "- **Unordered**: Python dictionaries do not maintain the order of items (before Python 3.7), but starting from Python 3.7, they maintain insertion order.\n"
   ]
  },
  {
   "cell_type": "markdown",
   "metadata": {},
   "source": [
    "<style>\n",
    "\th3{\n",
    "\t\tbackground-color: grey\n",
    "\t\tcolor: white\n",
    "\t}\n",
    "</style>\n",
    "\n",
    "<h1> Initialization the Dictionary </h1>\n",
    "<a href=\"https://docs.python.org/3/library/stdtypes.html#mapping-types-dict\"> Python Official Documentation </a>\n",
    "\n",
    "\n"
   ]
  },
  {
   "cell_type": "markdown",
   "metadata": {},
   "source": [
    "<!DOCTYPE html>\n",
    "<html lang=\"en\">\n",
    "<head>\n",
    "    <meta charset=\"UTF-8\">\n",
    "    <meta name=\"viewport\" content=\"width=device-width, initial-scale=1.0\">\n",
    "    <title>Two Rows Three Columns</title>\n",
    "    <style>\n",
    "        table {\n",
    "            width: 50%;\n",
    "            border-collapse: collapse;\n",
    "        }\n",
    "        th, td {\n",
    "            border: 1px solid black;\n",
    "            padding: 10px;\n",
    "            text-align: center;\n",
    "        }\n",
    "    </style>\n",
    "</head>\n",
    "<body>\n",
    "    <h2>Student Information</h2>\n",
    "    <table>\n",
    "        <tr>\n",
    "            <th>ID</th>\n",
    "            <th>Name</th>\n",
    "            <th>Score</th>\n",
    "        </tr>\n",
    "        <tr>\n",
    "            <td>900123456</td>\n",
    "            <td>John Lee</td>\n",
    "            <td>[100, 90, 80]</td>\n",
    "        </tr\n",
    "\n",
    "### Make a dictionary by using the following methods"
   ]
  },
  {
   "cell_type": "code",
   "execution_count": 2,
   "metadata": {},
   "outputs": [
    {
     "data": {
      "text/plain": [
       "{'ID': 900123456, 'Name': 'John Lee', 'Score': [100, 90, 80]}"
      ]
     },
     "execution_count": 2,
     "metadata": {},
     "output_type": "execute_result"
    }
   ],
   "source": [
    "# (1) \n",
    "dict1 = dict(ID=900123456, Name=\"John Lee\", Score=[100, 90, 80])\n",
    "dict1"
   ]
  },
  {
   "cell_type": "code",
   "execution_count": 3,
   "metadata": {},
   "outputs": [
    {
     "data": {
      "text/plain": [
       "{'ID': 900123456, 'Name': 'John Lee', 'Score': [100, 90, 80]}"
      ]
     },
     "execution_count": 3,
     "metadata": {},
     "output_type": "execute_result"
    }
   ],
   "source": [
    "# [2]\n",
    "dict2 = dict({'ID':900123456, 'Name':'John Lee', 'Score':[100, 90, 80]})\n",
    "dict2"
   ]
  },
  {
   "cell_type": "code",
   "execution_count": 7,
   "metadata": {},
   "outputs": [
    {
     "data": {
      "text/plain": [
       "{'ID': 900123456, 'Name': 'John Lee', 'Score': [100, 90, 80]}"
      ]
     },
     "execution_count": 7,
     "metadata": {},
     "output_type": "execute_result"
    }
   ],
   "source": [
    "# [3]\n",
    "dict3 = dict([('ID', 900123456), ('Name', 'John Lee'), ('Score', [100, 90, 80])])\n",
    "dict3"
   ]
  },
  {
   "cell_type": "code",
   "execution_count": 9,
   "metadata": {},
   "outputs": [
    {
     "data": {
      "text/plain": [
       "{'ID': 900123456, 'Name': 'John Lee', 'Score': [100, 90, 80]}"
      ]
     },
     "execution_count": 9,
     "metadata": {},
     "output_type": "execute_result"
    }
   ],
   "source": [
    "dict4 = dict(zip(['ID', 'Name', 'Score'], [900123456, 'John Lee', [100, 90, 80]]))\n",
    "dict4"
   ]
  },
  {
   "cell_type": "markdown",
   "metadata": {},
   "source": [
    "#### <p style=\"font-family: Arial; font-size:1.4em; background-color: yellow; color:black;\"> Problem #1.0 </p>\n",
    "\n",
    "#### Make a dictionary with the following keys and values\n",
    "- keys: {'CRN', 'CourseTitle', 'CourseCredit', 'CourseGrade'}\n",
    "- values: {'COMSC240', 'Advanced PythonProgramming', 3, 'A'}"
   ]
  },
  {
   "cell_type": "markdown",
   "metadata": {},
   "source": [
    "#### Use any of the methods above to make the dictionary\n",
    "#### Code the solution in the cell below"
   ]
  },
  {
   "cell_type": "code",
   "execution_count": null,
   "metadata": {},
   "outputs": [],
   "source": [
    "# code here"
   ]
  },
  {
   "cell_type": "markdown",
   "metadata": {},
   "source": [
    "<style>\n",
    "\th3{\n",
    "\t\tbackground-color: grey\n",
    "\t\tcolor: white\n",
    "\t}\n",
    "</style>\n",
    "\n",
    "<h1> Accessing Elements in the Dictionary </h1>\n",
    "<a href=\"https://docs.python.org/3/library/stdtypes.html#mapping-types-dict\"> Python Official Documentation </a>\n",
    "\n",
    "\n"
   ]
  },
  {
   "cell_type": "markdown",
   "metadata": {},
   "source": [
    "Accessing elements in a dictionary is done using the keys. You can retrieve the value associated with a specific key using the following syntax:\n",
    "\n",
    "```python\n",
    "value = dictionary[key]\n",
    "```\n"
   ]
  },
  {
   "cell_type": "code",
   "execution_count": 12,
   "metadata": {},
   "outputs": [
    {
     "data": {
      "text/plain": [
       "'Advanced Python Programming'"
      ]
     },
     "execution_count": 12,
     "metadata": {},
     "output_type": "execute_result"
    }
   ],
   "source": [
    "courses= dict(CRN='COMSC240', CourseTitle='Advanced Python Programming', CourseCredit=3, CourseGrade='A')\n",
    "courses['CourseTitle']"
   ]
  },
  {
   "cell_type": "markdown",
   "metadata": {},
   "source": [
    "### How to print all element with key value pairs\n",
    "```python\n",
    "for key, value in courses.items():\n",
    "    print(f\"{key}: {value}\")\n",
    "```\n"
   ]
  },
  {
   "cell_type": "markdown",
   "metadata": {},
   "source": [
    "### How to print all keys\n",
    "```python\n",
    "for key in courses.keys():\n",
    "    print(key)\n",
    "```\n"
   ]
  },
  {
   "cell_type": "markdown",
   "metadata": {},
   "source": [
    "### How to print all values\n",
    "```python\n",
    "for value in courses.values():\n",
    "    print(value)\n",
    "```\n"
   ]
  },
  {
   "cell_type": "markdown",
   "metadata": {},
   "source": [
    "### How to print all values according to the keys\n",
    "```python\n",
    "for key in courses.keys():\n",
    "    print(courses[key])\n",
    "```"
   ]
  },
  {
   "cell_type": "markdown",
   "metadata": {},
   "source": [
    "### How to check if a key exists in the dictionary\n",
    "```python\n",
    "if 'CourseTitle' in courses:\n",
    "    print(\"Yes, 'CourseTitle' is one of the keys in the course_info dictionary\")\n",
    "```"
   ]
  },
  {
   "cell_type": "markdown",
   "metadata": {},
   "source": [
    "### How to find the key from the value  \n",
    "```python\n",
    "list(courses.keys())[list(courses.values()).index('Advanced Python Programming')]\n",
    "```"
   ]
  },
  {
   "cell_type": "code",
   "execution_count": 19,
   "metadata": {},
   "outputs": [
    {
     "data": {
      "text/plain": [
       "'CourseTitle'"
      ]
     },
     "execution_count": 19,
     "metadata": {},
     "output_type": "execute_result"
    }
   ],
   "source": [
    "list(courses.keys())[list(courses.values()).index('Advanced Python Programming')]\n",
    "# breakdown the above code\n",
    "idx = list(courses.values()).index('Advanced Python Programming')\n",
    "list(courses.keys())[idx]\n"
   ]
  },
  {
   "cell_type": "markdown",
   "metadata": {},
   "source": [
    "#### <p style=\"font-family: Arial; font-size:1.4em; background-color: yellow; color:black;\"> Problem #1.1 </p>\n",
    "\n",
    "#### Make a LIST of dictionary \"course\" with the following keys and values\n",
    "\n",
    "\n",
    "<!DOCTYPE html>\n",
    "<html lang=\"en\">\n",
    "<head>\n",
    "    <meta charset=\"UTF-8\">\n",
    "    <meta name=\"viewport\" content=\"width=device-width, initial-scale=1.0\">\n",
    "    <title>Course Information</title>\n",
    "    <style>\n",
    "        table {\n",
    "            width: 60%;\n",
    "            border-collapse: collapse;\n",
    "            margin: 20px 0;\n",
    "        }\n",
    "        th, td {\n",
    "            border: 1px solid black;\n",
    "            padding: 10px;\n",
    "            text-align: left;\n",
    "        }\n",
    "    </style>\n",
    "</head>\n",
    "<body>\n",
    "    <h2>Course Information</h2>\n",
    "    <table>\n",
    "        <tr>\n",
    "            <th>CRN</th>\n",
    "            <th>Course Title</th>\n",
    "            <th>Course Credit</th>\n",
    "            <th>Course Grade</th>\n",
    "        </tr>\n",
    "        <tr>\n",
    "            <td>COMSC240</td>\n",
    "            <td>Advanced Python Programming</td>\n",
    "            <td>3</td>\n",
    "            <td>A</td>\n",
    "        </tr>\n",
    "        <tr>\n",
    "            <td>COMSC140</td>\n",
    "            <td>Intro to Python Programming</td>\n",
    "            <td>3</td>\n",
    "            <td>B</td>\n",
    "        </tr>\n",
    "        <tr>\n",
    "            <td>COMSC340</td>\n",
    "            <td>Data Structure</td>\n",
    "            <td>3</td>\n",
    "            <td>A</td>\n",
    "        </tr>\n",
    "        <tr>\n",
    "            <td>COMSC440</td>\n",
    "            <td>Database</td>\n",
    "            <td>3</td>\n",
    "            <td>B</td>\n",
    "        </tr>\n",
    "    </table>\n",
    "</body>\n",
    "</html>\n"
   ]
  },
  {
   "cell_type": "code",
   "execution_count": null,
   "metadata": {},
   "outputs": [],
   "source": [
    "## Code Here\n",
    "\n",
    "course = [ # Complete the code here \n",
    "        ]"
   ]
  },
  {
   "cell_type": "markdown",
   "metadata": {},
   "source": [
    "#### <p style=\"font-family: Arial; font-size:1.4em; background-color: yellow; color:black;\"> Problem #1.1 </p>\n",
    "\n",
    "#### Make a code to print all the elements in the list of dictionary \"course\""
   ]
  },
  {
   "cell_type": "code",
   "execution_count": null,
   "metadata": {},
   "outputs": [],
   "source": [
    "## Code Here"
   ]
  },
  {
   "cell_type": "markdown",
   "metadata": {},
   "source": [
    "#### <p style=\"font-family: Arial; font-size:1.4em; background-color: yellow; color:black;\"> Problem #1.2 </p>\n",
    "\n",
    "### Make a code to change the course credit to 4 for the courses which CourseGrade is 'A'\n"
   ]
  },
  {
   "cell_type": "code",
   "execution_count": 24,
   "metadata": {},
   "outputs": [],
   "source": [
    "## Code Here\n"
   ]
  },
  {
   "cell_type": "markdown",
   "metadata": {},
   "source": [
    "#### <p style=\"font-family: Arial; font-size:1.4em; background-color: yellow; color:black;\"> Problem #1.3 </p>\n",
    "\n",
    "### Make a code to print the sum of all credits for the courses which includes 'Python' in the CourseTitle\n"
   ]
  },
  {
   "cell_type": "code",
   "execution_count": 21,
   "metadata": {},
   "outputs": [],
   "source": [
    "## Code Here"
   ]
  },
  {
   "cell_type": "markdown",
   "metadata": {},
   "source": [
    "#### <p style=\"font-family: Arial; font-size:1.4em; background-color: yellow; color:black;\"> Problem #1.4 </p>\n",
    "\n",
    "### Make a code to construct a dictionary course with the following lists of keys and values.\n",
    "```python\n",
    "keys =  ['CRN', 'CourseTitle', 'CourseCredit', 'CourseGrade']\n",
    "values =  [ ['COMSC240', 'Advanced Python Programming', 3, 'A'], \n",
    "            ['COMSC140', 'Intro to Python Programming', 3, 'B'], \n",
    "            ['COMSC340', 'Data Structure', 3, 'A'], \n",
    "            ['COMSC440', 'Database', 3, 'B'] ]\n",
    "```\n",
    "\n",
    "#### [Tip] Use the zip function to combine the keys and values"
   ]
  },
  {
   "cell_type": "code",
   "execution_count": 31,
   "metadata": {},
   "outputs": [],
   "source": [
    "keys =  ['CRN', 'CourseTitle', 'CourseCredit', 'CourseGrade']\n",
    "values =  [ ['COMSC240', 'Advanced Python Programming', 3, 'A'], \n",
    "            ['COMSC140', 'Intro to Python Programming', 3, 'B'], \n",
    "            ['COMSC340', 'Data Structure', 3, 'A'], \n",
    "            ['COMSC440', 'Database', 3, 'B'] ]\n",
    "course = []\n",
    "## Code Here\n"
   ]
  },
  {
   "cell_type": "markdown",
   "metadata": {},
   "source": [
    "<mark> Save your file by pressing \"Ctrl+S\" or \"git commit -m \"your message\"\" </mark> "
   ]
  },
  {
   "cell_type": "markdown",
   "metadata": {},
   "source": [
    "***\n",
    "\n",
    "## <p style=\"background-color: grey; color: white \"> ◼️  File I/O </p>\n",
    "# <p style=\"font-family: Arial; font-size:l.4em;color:red;\"> 2. Basic Examples of File I/O </p>\n"
   ]
  },
  {
   "cell_type": "markdown",
   "metadata": {},
   "source": [
    "In Python, **File I/O (Input/Output)** refers to the process of reading from and writing to files. It allows programs to persist data between executions or handle large datasets. To work with files, you typically use Python's built-in `open()` function, which opens a file in different modes: reading (`'r'`), writing (`'w'`), or appending (`'a'`). You can then perform file operations like reading the content using `read()` or `readlines()` and writing data using `write()` or `writelines()`. After performing operations, it’s essential to close the file using `close()` or utilize the `with` statement to handle files automatically.\n",
    "\n",
    "Example:\n",
    "```python\n",
    "with open(\"example.txt\", \"w\") as file:\n",
    "    file.write(\"Hello, World!\")\n"
   ]
  },
  {
   "cell_type": "markdown",
   "metadata": {},
   "source": [
    "To **read** data from a file in Python, you use the `open()` function with the file mode set to `'r'` (read). The file content can then be accessed using methods such as `read()`, which reads the entire file as a string, `readline()` to read a single line, or `readlines()` to return a list of all lines. Once the file operations are complete, the file should be closed to free up resources, although using the `with` statement ensures the file is automatically closed when you're done.\n",
    "\n",
    "### Example of reading a file:\n",
    "```python\n",
    "with open(\"example.txt\", \"r\") as file:\n",
    "    content = file.read()\n",
    "    print(content)\n"
   ]
  },
  {
   "cell_type": "code",
   "execution_count": 34,
   "metadata": {},
   "outputs": [],
   "source": [
    "## Write a code with the following examples \n",
    "'''\n",
    "Advanced Python Programming\n",
    "COMSC240\n",
    "Asynchronous Online Learning\n",
    "'''\n",
    "\n",
    "with open(\"example.txt\", \"w\") as file:\n",
    "    file.write(\"Advanced Python Programming\\nCOMSC240\\nAsynchronous Online Learning\")\n"
   ]
  }
 ],
 "metadata": {
  "kernelspec": {
   "display_name": "Python 3.9.13 ('base')",
   "language": "python",
   "name": "python3"
  },
  "language_info": {
   "codemirror_mode": {
    "name": "ipython",
    "version": 3
   },
   "file_extension": ".py",
   "mimetype": "text/x-python",
   "name": "python",
   "nbconvert_exporter": "python",
   "pygments_lexer": "ipython3",
   "version": "3.12.4"
  },
  "orig_nbformat": 4,
  "vscode": {
   "interpreter": {
    "hash": "32cd87c0c55905266dc8232ebf1148f668af0d9324249c125246585210a29cd6"
   }
  }
 },
 "nbformat": 4,
 "nbformat_minor": 2
}
